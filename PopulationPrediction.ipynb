{
 "cells": [
  {
   "cell_type": "code",
   "execution_count": 1,
   "id": "42b811db",
   "metadata": {},
   "outputs": [],
   "source": [
    "import pandas as pd\n",
    "import numpy as np\n",
    "import matplotlib.pyplot as plt"
   ]
  },
  {
   "cell_type": "code",
   "execution_count": 4,
   "id": "37bc0081",
   "metadata": {},
   "outputs": [],
   "source": [
    "data=pd.read_csv(\"H:\\dataPython\\population.txt\",header=None,names=[\"Population\",\"Profit\"])"
   ]
  },
  {
   "cell_type": "code",
   "execution_count": 5,
   "id": "8bb793ef",
   "metadata": {},
   "outputs": [
    {
     "data": {
      "text/html": [
       "<div>\n",
       "<style scoped>\n",
       "    .dataframe tbody tr th:only-of-type {\n",
       "        vertical-align: middle;\n",
       "    }\n",
       "\n",
       "    .dataframe tbody tr th {\n",
       "        vertical-align: top;\n",
       "    }\n",
       "\n",
       "    .dataframe thead th {\n",
       "        text-align: right;\n",
       "    }\n",
       "</style>\n",
       "<table border=\"1\" class=\"dataframe\">\n",
       "  <thead>\n",
       "    <tr style=\"text-align: right;\">\n",
       "      <th></th>\n",
       "      <th>Population</th>\n",
       "      <th>Profit</th>\n",
       "    </tr>\n",
       "  </thead>\n",
       "  <tbody>\n",
       "    <tr>\n",
       "      <th>0</th>\n",
       "      <td>6.1101</td>\n",
       "      <td>17.59200</td>\n",
       "    </tr>\n",
       "    <tr>\n",
       "      <th>1</th>\n",
       "      <td>5.5277</td>\n",
       "      <td>9.13020</td>\n",
       "    </tr>\n",
       "    <tr>\n",
       "      <th>2</th>\n",
       "      <td>8.5186</td>\n",
       "      <td>13.66200</td>\n",
       "    </tr>\n",
       "    <tr>\n",
       "      <th>3</th>\n",
       "      <td>7.0032</td>\n",
       "      <td>11.85400</td>\n",
       "    </tr>\n",
       "    <tr>\n",
       "      <th>4</th>\n",
       "      <td>5.8598</td>\n",
       "      <td>6.82330</td>\n",
       "    </tr>\n",
       "    <tr>\n",
       "      <th>...</th>\n",
       "      <td>...</td>\n",
       "      <td>...</td>\n",
       "    </tr>\n",
       "    <tr>\n",
       "      <th>92</th>\n",
       "      <td>5.8707</td>\n",
       "      <td>7.20290</td>\n",
       "    </tr>\n",
       "    <tr>\n",
       "      <th>93</th>\n",
       "      <td>5.3054</td>\n",
       "      <td>1.98690</td>\n",
       "    </tr>\n",
       "    <tr>\n",
       "      <th>94</th>\n",
       "      <td>8.2934</td>\n",
       "      <td>0.14454</td>\n",
       "    </tr>\n",
       "    <tr>\n",
       "      <th>95</th>\n",
       "      <td>13.3940</td>\n",
       "      <td>9.05510</td>\n",
       "    </tr>\n",
       "    <tr>\n",
       "      <th>96</th>\n",
       "      <td>5.4369</td>\n",
       "      <td>0.61705</td>\n",
       "    </tr>\n",
       "  </tbody>\n",
       "</table>\n",
       "<p>97 rows × 2 columns</p>\n",
       "</div>"
      ],
      "text/plain": [
       "    Population    Profit\n",
       "0       6.1101  17.59200\n",
       "1       5.5277   9.13020\n",
       "2       8.5186  13.66200\n",
       "3       7.0032  11.85400\n",
       "4       5.8598   6.82330\n",
       "..         ...       ...\n",
       "92      5.8707   7.20290\n",
       "93      5.3054   1.98690\n",
       "94      8.2934   0.14454\n",
       "95     13.3940   9.05510\n",
       "96      5.4369   0.61705\n",
       "\n",
       "[97 rows x 2 columns]"
      ]
     },
     "execution_count": 5,
     "metadata": {},
     "output_type": "execute_result"
    }
   ],
   "source": [
    "data"
   ]
  },
  {
   "cell_type": "code",
   "execution_count": 6,
   "id": "099be419",
   "metadata": {},
   "outputs": [
    {
     "name": "stdout",
     "output_type": "stream",
     "text": [
      "<class 'pandas.core.frame.DataFrame'>\n",
      "RangeIndex: 97 entries, 0 to 96\n",
      "Data columns (total 2 columns):\n",
      " #   Column      Non-Null Count  Dtype  \n",
      "---  ------      --------------  -----  \n",
      " 0   Population  97 non-null     float64\n",
      " 1   Profit      97 non-null     float64\n",
      "dtypes: float64(2)\n",
      "memory usage: 1.6 KB\n"
     ]
    }
   ],
   "source": [
    "data.info()"
   ]
  },
  {
   "cell_type": "code",
   "execution_count": 7,
   "id": "4863e39d",
   "metadata": {},
   "outputs": [
    {
     "data": {
      "text/html": [
       "<div>\n",
       "<style scoped>\n",
       "    .dataframe tbody tr th:only-of-type {\n",
       "        vertical-align: middle;\n",
       "    }\n",
       "\n",
       "    .dataframe tbody tr th {\n",
       "        vertical-align: top;\n",
       "    }\n",
       "\n",
       "    .dataframe thead th {\n",
       "        text-align: right;\n",
       "    }\n",
       "</style>\n",
       "<table border=\"1\" class=\"dataframe\">\n",
       "  <thead>\n",
       "    <tr style=\"text-align: right;\">\n",
       "      <th></th>\n",
       "      <th>Population</th>\n",
       "      <th>Profit</th>\n",
       "    </tr>\n",
       "  </thead>\n",
       "  <tbody>\n",
       "    <tr>\n",
       "      <th>count</th>\n",
       "      <td>97.000000</td>\n",
       "      <td>97.000000</td>\n",
       "    </tr>\n",
       "    <tr>\n",
       "      <th>mean</th>\n",
       "      <td>8.159800</td>\n",
       "      <td>5.839135</td>\n",
       "    </tr>\n",
       "    <tr>\n",
       "      <th>std</th>\n",
       "      <td>3.869884</td>\n",
       "      <td>5.510262</td>\n",
       "    </tr>\n",
       "    <tr>\n",
       "      <th>min</th>\n",
       "      <td>5.026900</td>\n",
       "      <td>-2.680700</td>\n",
       "    </tr>\n",
       "    <tr>\n",
       "      <th>25%</th>\n",
       "      <td>5.707700</td>\n",
       "      <td>1.986900</td>\n",
       "    </tr>\n",
       "    <tr>\n",
       "      <th>50%</th>\n",
       "      <td>6.589400</td>\n",
       "      <td>4.562300</td>\n",
       "    </tr>\n",
       "    <tr>\n",
       "      <th>75%</th>\n",
       "      <td>8.578100</td>\n",
       "      <td>7.046700</td>\n",
       "    </tr>\n",
       "    <tr>\n",
       "      <th>max</th>\n",
       "      <td>22.203000</td>\n",
       "      <td>24.147000</td>\n",
       "    </tr>\n",
       "  </tbody>\n",
       "</table>\n",
       "</div>"
      ],
      "text/plain": [
       "       Population     Profit\n",
       "count   97.000000  97.000000\n",
       "mean     8.159800   5.839135\n",
       "std      3.869884   5.510262\n",
       "min      5.026900  -2.680700\n",
       "25%      5.707700   1.986900\n",
       "50%      6.589400   4.562300\n",
       "75%      8.578100   7.046700\n",
       "max     22.203000  24.147000"
      ]
     },
     "execution_count": 7,
     "metadata": {},
     "output_type": "execute_result"
    }
   ],
   "source": [
    "data.describe()"
   ]
  },
  {
   "cell_type": "code",
   "execution_count": 10,
   "id": "bc0102e9",
   "metadata": {},
   "outputs": [
    {
     "data": {
      "text/html": [
       "<div>\n",
       "<style scoped>\n",
       "    .dataframe tbody tr th:only-of-type {\n",
       "        vertical-align: middle;\n",
       "    }\n",
       "\n",
       "    .dataframe tbody tr th {\n",
       "        vertical-align: top;\n",
       "    }\n",
       "\n",
       "    .dataframe thead th {\n",
       "        text-align: right;\n",
       "    }\n",
       "</style>\n",
       "<table border=\"1\" class=\"dataframe\">\n",
       "  <thead>\n",
       "    <tr style=\"text-align: right;\">\n",
       "      <th></th>\n",
       "      <th>Ones</th>\n",
       "      <th>Population</th>\n",
       "      <th>Profit</th>\n",
       "    </tr>\n",
       "  </thead>\n",
       "  <tbody>\n",
       "    <tr>\n",
       "      <th>0</th>\n",
       "      <td>1</td>\n",
       "      <td>6.1101</td>\n",
       "      <td>17.5920</td>\n",
       "    </tr>\n",
       "    <tr>\n",
       "      <th>1</th>\n",
       "      <td>1</td>\n",
       "      <td>5.5277</td>\n",
       "      <td>9.1302</td>\n",
       "    </tr>\n",
       "    <tr>\n",
       "      <th>2</th>\n",
       "      <td>1</td>\n",
       "      <td>8.5186</td>\n",
       "      <td>13.6620</td>\n",
       "    </tr>\n",
       "    <tr>\n",
       "      <th>3</th>\n",
       "      <td>1</td>\n",
       "      <td>7.0032</td>\n",
       "      <td>11.8540</td>\n",
       "    </tr>\n",
       "    <tr>\n",
       "      <th>4</th>\n",
       "      <td>1</td>\n",
       "      <td>5.8598</td>\n",
       "      <td>6.8233</td>\n",
       "    </tr>\n",
       "  </tbody>\n",
       "</table>\n",
       "</div>"
      ],
      "text/plain": [
       "   Ones  Population   Profit\n",
       "0     1      6.1101  17.5920\n",
       "1     1      5.5277   9.1302\n",
       "2     1      8.5186  13.6620\n",
       "3     1      7.0032  11.8540\n",
       "4     1      5.8598   6.8233"
      ]
     },
     "execution_count": 10,
     "metadata": {},
     "output_type": "execute_result"
    }
   ],
   "source": [
    "data.head()"
   ]
  },
  {
   "cell_type": "code",
   "execution_count": 30,
   "id": "58837bff",
   "metadata": {},
   "outputs": [],
   "source": [
    "x=data.drop(columns=\"Profit\")"
   ]
  },
  {
   "cell_type": "code",
   "execution_count": 31,
   "id": "ae0e80ea",
   "metadata": {},
   "outputs": [],
   "source": [
    "y=data.Profit"
   ]
  },
  {
   "cell_type": "code",
   "execution_count": 32,
   "id": "d9b2698a",
   "metadata": {},
   "outputs": [
    {
     "data": {
      "text/html": [
       "<div>\n",
       "<style scoped>\n",
       "    .dataframe tbody tr th:only-of-type {\n",
       "        vertical-align: middle;\n",
       "    }\n",
       "\n",
       "    .dataframe tbody tr th {\n",
       "        vertical-align: top;\n",
       "    }\n",
       "\n",
       "    .dataframe thead th {\n",
       "        text-align: right;\n",
       "    }\n",
       "</style>\n",
       "<table border=\"1\" class=\"dataframe\">\n",
       "  <thead>\n",
       "    <tr style=\"text-align: right;\">\n",
       "      <th></th>\n",
       "      <th>Ones</th>\n",
       "      <th>Population</th>\n",
       "    </tr>\n",
       "  </thead>\n",
       "  <tbody>\n",
       "    <tr>\n",
       "      <th>0</th>\n",
       "      <td>1</td>\n",
       "      <td>6.1101</td>\n",
       "    </tr>\n",
       "    <tr>\n",
       "      <th>1</th>\n",
       "      <td>1</td>\n",
       "      <td>5.5277</td>\n",
       "    </tr>\n",
       "    <tr>\n",
       "      <th>2</th>\n",
       "      <td>1</td>\n",
       "      <td>8.5186</td>\n",
       "    </tr>\n",
       "    <tr>\n",
       "      <th>3</th>\n",
       "      <td>1</td>\n",
       "      <td>7.0032</td>\n",
       "    </tr>\n",
       "    <tr>\n",
       "      <th>4</th>\n",
       "      <td>1</td>\n",
       "      <td>5.8598</td>\n",
       "    </tr>\n",
       "    <tr>\n",
       "      <th>...</th>\n",
       "      <td>...</td>\n",
       "      <td>...</td>\n",
       "    </tr>\n",
       "    <tr>\n",
       "      <th>92</th>\n",
       "      <td>1</td>\n",
       "      <td>5.8707</td>\n",
       "    </tr>\n",
       "    <tr>\n",
       "      <th>93</th>\n",
       "      <td>1</td>\n",
       "      <td>5.3054</td>\n",
       "    </tr>\n",
       "    <tr>\n",
       "      <th>94</th>\n",
       "      <td>1</td>\n",
       "      <td>8.2934</td>\n",
       "    </tr>\n",
       "    <tr>\n",
       "      <th>95</th>\n",
       "      <td>1</td>\n",
       "      <td>13.3940</td>\n",
       "    </tr>\n",
       "    <tr>\n",
       "      <th>96</th>\n",
       "      <td>1</td>\n",
       "      <td>5.4369</td>\n",
       "    </tr>\n",
       "  </tbody>\n",
       "</table>\n",
       "<p>97 rows × 2 columns</p>\n",
       "</div>"
      ],
      "text/plain": [
       "    Ones  Population\n",
       "0      1      6.1101\n",
       "1      1      5.5277\n",
       "2      1      8.5186\n",
       "3      1      7.0032\n",
       "4      1      5.8598\n",
       "..   ...         ...\n",
       "92     1      5.8707\n",
       "93     1      5.3054\n",
       "94     1      8.2934\n",
       "95     1     13.3940\n",
       "96     1      5.4369\n",
       "\n",
       "[97 rows x 2 columns]"
      ]
     },
     "execution_count": 32,
     "metadata": {},
     "output_type": "execute_result"
    }
   ],
   "source": [
    "x"
   ]
  },
  {
   "cell_type": "code",
   "execution_count": 33,
   "id": "e1e37b57",
   "metadata": {},
   "outputs": [
    {
     "data": {
      "text/plain": [
       "0     17.59200\n",
       "1      9.13020\n",
       "2     13.66200\n",
       "3     11.85400\n",
       "4      6.82330\n",
       "        ...   \n",
       "92     7.20290\n",
       "93     1.98690\n",
       "94     0.14454\n",
       "95     9.05510\n",
       "96     0.61705\n",
       "Name: Profit, Length: 97, dtype: float64"
      ]
     },
     "execution_count": 33,
     "metadata": {},
     "output_type": "execute_result"
    }
   ],
   "source": [
    "y"
   ]
  },
  {
   "cell_type": "code",
   "execution_count": 34,
   "id": "d1137a2d",
   "metadata": {},
   "outputs": [],
   "source": [
    "x=np.matrix(x.values)"
   ]
  },
  {
   "cell_type": "code",
   "execution_count": 35,
   "id": "29dbaa59",
   "metadata": {},
   "outputs": [
    {
     "data": {
      "text/plain": [
       "matrix([[ 1.    ,  6.1101],\n",
       "        [ 1.    ,  5.5277],\n",
       "        [ 1.    ,  8.5186],\n",
       "        [ 1.    ,  7.0032],\n",
       "        [ 1.    ,  5.8598],\n",
       "        [ 1.    ,  8.3829],\n",
       "        [ 1.    ,  7.4764],\n",
       "        [ 1.    ,  8.5781],\n",
       "        [ 1.    ,  6.4862],\n",
       "        [ 1.    ,  5.0546],\n",
       "        [ 1.    ,  5.7107],\n",
       "        [ 1.    , 14.164 ],\n",
       "        [ 1.    ,  5.734 ],\n",
       "        [ 1.    ,  8.4084],\n",
       "        [ 1.    ,  5.6407],\n",
       "        [ 1.    ,  5.3794],\n",
       "        [ 1.    ,  6.3654],\n",
       "        [ 1.    ,  5.1301],\n",
       "        [ 1.    ,  6.4296],\n",
       "        [ 1.    ,  7.0708],\n",
       "        [ 1.    ,  6.1891],\n",
       "        [ 1.    , 20.27  ],\n",
       "        [ 1.    ,  5.4901],\n",
       "        [ 1.    ,  6.3261],\n",
       "        [ 1.    ,  5.5649],\n",
       "        [ 1.    , 18.945 ],\n",
       "        [ 1.    , 12.828 ],\n",
       "        [ 1.    , 10.957 ],\n",
       "        [ 1.    , 13.176 ],\n",
       "        [ 1.    , 22.203 ],\n",
       "        [ 1.    ,  5.2524],\n",
       "        [ 1.    ,  6.5894],\n",
       "        [ 1.    ,  9.2482],\n",
       "        [ 1.    ,  5.8918],\n",
       "        [ 1.    ,  8.2111],\n",
       "        [ 1.    ,  7.9334],\n",
       "        [ 1.    ,  8.0959],\n",
       "        [ 1.    ,  5.6063],\n",
       "        [ 1.    , 12.836 ],\n",
       "        [ 1.    ,  6.3534],\n",
       "        [ 1.    ,  5.4069],\n",
       "        [ 1.    ,  6.8825],\n",
       "        [ 1.    , 11.708 ],\n",
       "        [ 1.    ,  5.7737],\n",
       "        [ 1.    ,  7.8247],\n",
       "        [ 1.    ,  7.0931],\n",
       "        [ 1.    ,  5.0702],\n",
       "        [ 1.    ,  5.8014],\n",
       "        [ 1.    , 11.7   ],\n",
       "        [ 1.    ,  5.5416],\n",
       "        [ 1.    ,  7.5402],\n",
       "        [ 1.    ,  5.3077],\n",
       "        [ 1.    ,  7.4239],\n",
       "        [ 1.    ,  7.6031],\n",
       "        [ 1.    ,  6.3328],\n",
       "        [ 1.    ,  6.3589],\n",
       "        [ 1.    ,  6.2742],\n",
       "        [ 1.    ,  5.6397],\n",
       "        [ 1.    ,  9.3102],\n",
       "        [ 1.    ,  9.4536],\n",
       "        [ 1.    ,  8.8254],\n",
       "        [ 1.    ,  5.1793],\n",
       "        [ 1.    , 21.279 ],\n",
       "        [ 1.    , 14.908 ],\n",
       "        [ 1.    , 18.959 ],\n",
       "        [ 1.    ,  7.2182],\n",
       "        [ 1.    ,  8.2951],\n",
       "        [ 1.    , 10.236 ],\n",
       "        [ 1.    ,  5.4994],\n",
       "        [ 1.    , 20.341 ],\n",
       "        [ 1.    , 10.136 ],\n",
       "        [ 1.    ,  7.3345],\n",
       "        [ 1.    ,  6.0062],\n",
       "        [ 1.    ,  7.2259],\n",
       "        [ 1.    ,  5.0269],\n",
       "        [ 1.    ,  6.5479],\n",
       "        [ 1.    ,  7.5386],\n",
       "        [ 1.    ,  5.0365],\n",
       "        [ 1.    , 10.274 ],\n",
       "        [ 1.    ,  5.1077],\n",
       "        [ 1.    ,  5.7292],\n",
       "        [ 1.    ,  5.1884],\n",
       "        [ 1.    ,  6.3557],\n",
       "        [ 1.    ,  9.7687],\n",
       "        [ 1.    ,  6.5159],\n",
       "        [ 1.    ,  8.5172],\n",
       "        [ 1.    ,  9.1802],\n",
       "        [ 1.    ,  6.002 ],\n",
       "        [ 1.    ,  5.5204],\n",
       "        [ 1.    ,  5.0594],\n",
       "        [ 1.    ,  5.7077],\n",
       "        [ 1.    ,  7.6366],\n",
       "        [ 1.    ,  5.8707],\n",
       "        [ 1.    ,  5.3054],\n",
       "        [ 1.    ,  8.2934],\n",
       "        [ 1.    , 13.394 ],\n",
       "        [ 1.    ,  5.4369]])"
      ]
     },
     "execution_count": 35,
     "metadata": {},
     "output_type": "execute_result"
    }
   ],
   "source": [
    "x"
   ]
  },
  {
   "cell_type": "code",
   "execution_count": 36,
   "id": "b36ac1a5",
   "metadata": {},
   "outputs": [],
   "source": [
    "y=np.matrix(y.values)"
   ]
  },
  {
   "cell_type": "code",
   "execution_count": 37,
   "id": "5f649e23",
   "metadata": {},
   "outputs": [
    {
     "data": {
      "text/plain": [
       "matrix([[17.592  ,  9.1302 , 13.662  , 11.854  ,  6.8233 , 11.886  ,\n",
       "          4.3483 , 12.     ,  6.5987 ,  3.8166 ,  3.2522 , 15.505  ,\n",
       "          3.1551 ,  7.2258 ,  0.71618,  3.5129 ,  5.3048 ,  0.56077,\n",
       "          3.6518 ,  5.3893 ,  3.1386 , 21.767  ,  4.263  ,  5.1875 ,\n",
       "          3.0825 , 22.638  , 13.501  ,  7.0467 , 14.692  , 24.147  ,\n",
       "         -1.22   ,  5.9966 , 12.134  ,  1.8495 ,  6.5426 ,  4.5623 ,\n",
       "          4.1164 ,  3.3928 , 10.117  ,  5.4974 ,  0.55657,  3.9115 ,\n",
       "          5.3854 ,  2.4406 ,  6.7318 ,  1.0463 ,  5.1337 ,  1.844  ,\n",
       "          8.0043 ,  1.0179 ,  6.7504 ,  1.8396 ,  4.2885 ,  4.9981 ,\n",
       "          1.4233 , -1.4211 ,  2.4756 ,  4.6042 ,  3.9624 ,  5.4141 ,\n",
       "          5.1694 , -0.74279, 17.929  , 12.054  , 17.054  ,  4.8852 ,\n",
       "          5.7442 ,  7.7754 ,  1.0173 , 20.992  ,  6.6799 ,  4.0259 ,\n",
       "          1.2784 ,  3.3411 , -2.6807 ,  0.29678,  3.8845 ,  5.7014 ,\n",
       "          6.7526 ,  2.0576 ,  0.47953,  0.20421,  0.67861,  7.5435 ,\n",
       "          5.3436 ,  4.2415 ,  6.7981 ,  0.92695,  0.152  ,  2.8214 ,\n",
       "          1.8451 ,  4.2959 ,  7.2029 ,  1.9869 ,  0.14454,  9.0551 ,\n",
       "          0.61705]])"
      ]
     },
     "execution_count": 37,
     "metadata": {},
     "output_type": "execute_result"
    }
   ],
   "source": [
    "y"
   ]
  },
  {
   "cell_type": "code",
   "execution_count": 205,
   "id": "3b1f4bb1",
   "metadata": {},
   "outputs": [],
   "source": [
    "Theta=np.matrix([3,1])"
   ]
  },
  {
   "cell_type": "code",
   "execution_count": 206,
   "id": "4d8aa291",
   "metadata": {},
   "outputs": [
    {
     "data": {
      "text/plain": [
       "matrix([[3, 1]])"
      ]
     },
     "execution_count": 206,
     "metadata": {},
     "output_type": "execute_result"
    }
   ],
   "source": [
    "Theta"
   ]
  },
  {
   "cell_type": "code",
   "execution_count": 207,
   "id": "3074e061",
   "metadata": {},
   "outputs": [
    {
     "data": {
      "image/png": "[encoded data removed]",
      "text/plain": [
       "<Figure size 432x288 with 1 Axes>"
      ]
     },
     "metadata": {
      "needs_background": "light"
     },
     "output_type": "display_data"
    }
   ],
   "source": [
    "plt.plot(data.Population,'o',c='b')\n",
    "plt.show()"
   ]
  },
  {
   "cell_type": "code",
   "execution_count": 208,
   "id": "b803cb27",
   "metadata": {},
   "outputs": [
    {
     "data": {
      "image/png": "[encoded data removed]",
      "text/plain": [
       "<Figure size 432x288 with 1 Axes>"
      ]
     },
     "metadata": {
      "needs_background": "light"
     },
     "output_type": "display_data"
    }
   ],
   "source": [
    "plt.plot(y,'o',c='b')\n",
    "plt.show()"
   ]
  },
  {
   "cell_type": "code",
   "execution_count": 209,
   "id": "3dbd6f5a",
   "metadata": {},
   "outputs": [],
   "source": [
    "Theta=Theta.T"
   ]
  },
  {
   "cell_type": "code",
   "execution_count": 210,
   "id": "8c707e19",
   "metadata": {},
   "outputs": [],
   "source": [
    "\n",
    "y_predict=np.dot(x,Theta)"
   ]
  },
  {
   "cell_type": "code",
   "execution_count": 211,
   "id": "c028b167",
   "metadata": {},
   "outputs": [
    {
     "data": {
      "text/plain": [
       "matrix([[ 9.1101],\n",
       "        [ 8.5277],\n",
       "        [11.5186],\n",
       "        [10.0032],\n",
       "        [ 8.8598],\n",
       "        [11.3829],\n",
       "        [10.4764],\n",
       "        [11.5781],\n",
       "        [ 9.4862],\n",
       "        [ 8.0546],\n",
       "        [ 8.7107],\n",
       "        [17.164 ],\n",
       "        [ 8.734 ],\n",
       "        [11.4084],\n",
       "        [ 8.6407],\n",
       "        [ 8.3794],\n",
       "        [ 9.3654],\n",
       "        [ 8.1301],\n",
       "        [ 9.4296],\n",
       "        [10.0708],\n",
       "        [ 9.1891],\n",
       "        [23.27  ],\n",
       "        [ 8.4901],\n",
       "        [ 9.3261],\n",
       "        [ 8.5649],\n",
       "        [21.945 ],\n",
       "        [15.828 ],\n",
       "        [13.957 ],\n",
       "        [16.176 ],\n",
       "        [25.203 ],\n",
       "        [ 8.2524],\n",
       "        [ 9.5894],\n",
       "        [12.2482],\n",
       "        [ 8.8918],\n",
       "        [11.2111],\n",
       "        [10.9334],\n",
       "        [11.0959],\n",
       "        [ 8.6063],\n",
       "        [15.836 ],\n",
       "        [ 9.3534],\n",
       "        [ 8.4069],\n",
       "        [ 9.8825],\n",
       "        [14.708 ],\n",
       "        [ 8.7737],\n",
       "        [10.8247],\n",
       "        [10.0931],\n",
       "        [ 8.0702],\n",
       "        [ 8.8014],\n",
       "        [14.7   ],\n",
       "        [ 8.5416],\n",
       "        [10.5402],\n",
       "        [ 8.3077],\n",
       "        [10.4239],\n",
       "        [10.6031],\n",
       "        [ 9.3328],\n",
       "        [ 9.3589],\n",
       "        [ 9.2742],\n",
       "        [ 8.6397],\n",
       "        [12.3102],\n",
       "        [12.4536],\n",
       "        [11.8254],\n",
       "        [ 8.1793],\n",
       "        [24.279 ],\n",
       "        [17.908 ],\n",
       "        [21.959 ],\n",
       "        [10.2182],\n",
       "        [11.2951],\n",
       "        [13.236 ],\n",
       "        [ 8.4994],\n",
       "        [23.341 ],\n",
       "        [13.136 ],\n",
       "        [10.3345],\n",
       "        [ 9.0062],\n",
       "        [10.2259],\n",
       "        [ 8.0269],\n",
       "        [ 9.5479],\n",
       "        [10.5386],\n",
       "        [ 8.0365],\n",
       "        [13.274 ],\n",
       "        [ 8.1077],\n",
       "        [ 8.7292],\n",
       "        [ 8.1884],\n",
       "        [ 9.3557],\n",
       "        [12.7687],\n",
       "        [ 9.5159],\n",
       "        [11.5172],\n",
       "        [12.1802],\n",
       "        [ 9.002 ],\n",
       "        [ 8.5204],\n",
       "        [ 8.0594],\n",
       "        [ 8.7077],\n",
       "        [10.6366],\n",
       "        [ 8.8707],\n",
       "        [ 8.3054],\n",
       "        [11.2934],\n",
       "        [16.394 ],\n",
       "        [ 8.4369]])"
      ]
     },
     "execution_count": 211,
     "metadata": {},
     "output_type": "execute_result"
    }
   ],
   "source": [
    "y_predict"
   ]
  },
  {
   "cell_type": "code",
   "execution_count": 212,
   "id": "2983b99e",
   "metadata": {},
   "outputs": [],
   "source": [
    "y=y.T"
   ]
  },
  {
   "cell_type": "code",
   "execution_count": 213,
   "id": "6c7296c3",
   "metadata": {},
   "outputs": [
    {
     "data": {
      "image/png": "[encoded data removed]",
      "text/plain": [
       "<Figure size 432x288 with 1 Axes>"
      ]
     },
     "metadata": {
      "needs_background": "light"
     },
     "output_type": "display_data"
    }
   ],
   "source": [
    "plt.scatter(data.Population,data.Profit,c='r')\n",
    "plt.plot(data.Population,y_predict,'b')\n",
    "plt.show()"
   ]
  },
  {
   "cell_type": "code",
   "execution_count": 214,
   "id": "f15ff7aa",
   "metadata": {},
   "outputs": [],
   "source": [
    "m=len(data.iloc[:])"
   ]
  },
  {
   "cell_type": "markdown",
   "id": "21cc0b1b",
   "metadata": {},
   "source": [
    "m"
   ]
  },
  {
   "cell_type": "code",
   "execution_count": 215,
   "id": "88f470ef",
   "metadata": {},
   "outputs": [
    {
     "data": {
      "text/plain": [
       "97"
      ]
     },
     "execution_count": 215,
     "metadata": {},
     "output_type": "execute_result"
    }
   ],
   "source": [
    "m"
   ]
  },
  {
   "cell_type": "code",
   "execution_count": 216,
   "id": "4554a1ff",
   "metadata": {},
   "outputs": [],
   "source": [
    "sumation=0\n",
    "for i in range(m):\n",
    "    sumation+=np.power((y_predict[i]-y[i]),2)\n",
    "    "
   ]
  },
  {
   "cell_type": "code",
   "execution_count": 217,
   "id": "82deee68",
   "metadata": {},
   "outputs": [],
   "source": [
    "costFunction=1/(2*m)*sumation"
   ]
  },
  {
   "cell_type": "code",
   "execution_count": 218,
   "id": "d1d6cae5",
   "metadata": {},
   "outputs": [
    {
     "data": {
      "text/plain": [
       "matrix([[18.90785039]])"
      ]
     },
     "execution_count": 218,
     "metadata": {},
     "output_type": "execute_result"
    }
   ],
   "source": [
    "costFunction"
   ]
  },
  {
   "cell_type": "code",
   "execution_count": 204,
   "id": "e08853af",
   "metadata": {},
   "outputs": [
    {
     "data": {
      "text/plain": [
       "matrix([[2]])"
      ]
     },
     "execution_count": 204,
     "metadata": {},
     "output_type": "execute_result"
    }
   ],
   "source": [
    "Theta[0]"
   ]
  },
  {
   "cell_type": "code",
   "execution_count": 155,
   "id": "8a2ba41e",
   "metadata": {},
   "outputs": [
    {
     "data": {
      "text/plain": [
       "matrix([[2]])"
      ]
     },
     "execution_count": 155,
     "metadata": {},
     "output_type": "execute_result"
    }
   ],
   "source": [
    "Theta[1]"
   ]
  },
  {
   "cell_type": "code",
   "execution_count": 165,
   "id": "ac2bf3cf",
   "metadata": {},
   "outputs": [],
   "source": [
    "sumation=0\n",
    "for i in range(m):\n",
    "    sumation+=y_predict[i]-y[i]"
   ]
  },
  {
   "cell_type": "code",
   "execution_count": 166,
   "id": "50e89e0e",
   "metadata": {},
   "outputs": [
    {
     "data": {
      "text/plain": [
       "matrix([[1113.6051]])"
      ]
     },
     "execution_count": 166,
     "metadata": {},
     "output_type": "execute_result"
    }
   ],
   "source": [
    "sumation"
   ]
  },
  {
   "cell_type": "code",
   "execution_count": 233,
   "id": "aae97de7",
   "metadata": {},
   "outputs": [],
   "source": [
    "a=-0.2"
   ]
  },
  {
   "cell_type": "code",
   "execution_count": 234,
   "id": "7569790e",
   "metadata": {},
   "outputs": [],
   "source": [
    "Theta0=Theta[0]-(a/m)*sumation"
   ]
  },
  {
   "cell_type": "code",
   "execution_count": 235,
   "id": "9b29f457",
   "metadata": {},
   "outputs": [],
   "source": [
    "Theta1=Theta[1]-(a/m)*sumation"
   ]
  },
  {
   "cell_type": "code",
   "execution_count": 236,
   "id": "4ccde67d",
   "metadata": {},
   "outputs": [
    {
     "data": {
      "text/plain": [
       "matrix([[3.44268969e+08]])"
      ]
     },
     "execution_count": 236,
     "metadata": {},
     "output_type": "execute_result"
    }
   ],
   "source": [
    "Theta0"
   ]
  },
  {
   "cell_type": "code",
   "execution_count": 237,
   "id": "73ce73d7",
   "metadata": {},
   "outputs": [
    {
     "data": {
      "text/plain": [
       "matrix([[3.44268967e+08]])"
      ]
     },
     "execution_count": 237,
     "metadata": {},
     "output_type": "execute_result"
    }
   ],
   "source": [
    "Theta1"
   ]
  },
  {
   "cell_type": "code",
   "execution_count": 238,
   "id": "e478bcbc",
   "metadata": {},
   "outputs": [],
   "source": [
    "OrgineTheta=np.matrix([-1.29609299,-0.29609299])"
   ]
  },
  {
   "cell_type": "raw",
   "id": "9bd060e4",
   "metadata": {},
   "source": [
    "OrgineTheta"
   ]
  },
  {
   "cell_type": "code",
   "execution_count": 239,
   "id": "9d585d8d",
   "metadata": {},
   "outputs": [
    {
     "data": {
      "text/plain": [
       "matrix([[-1.29609299, -0.29609299]])"
      ]
     },
     "execution_count": 239,
     "metadata": {},
     "output_type": "execute_result"
    }
   ],
   "source": [
    "OrgineTheta"
   ]
  },
  {
   "cell_type": "code",
   "execution_count": 240,
   "id": "30cbc4fd",
   "metadata": {},
   "outputs": [
    {
     "data": {
      "text/plain": [
       "(1, 2)"
      ]
     },
     "execution_count": 240,
     "metadata": {},
     "output_type": "execute_result"
    }
   ],
   "source": [
    "OrgineTheta.shape"
   ]
  },
  {
   "cell_type": "code",
   "execution_count": 241,
   "id": "421cecfb",
   "metadata": {},
   "outputs": [],
   "source": [
    "OrgineTheta=OrgineTheta.T"
   ]
  },
  {
   "cell_type": "code",
   "execution_count": 242,
   "id": "79dcc4f8",
   "metadata": {},
   "outputs": [
    {
     "data": {
      "text/plain": [
       "(2, 1)"
      ]
     },
     "execution_count": 242,
     "metadata": {},
     "output_type": "execute_result"
    }
   ],
   "source": [
    "OrgineTheta.shape"
   ]
  },
  {
   "cell_type": "code",
   "execution_count": 243,
   "id": "a8ee00d4",
   "metadata": {},
   "outputs": [],
   "source": [
    "y_predict=np.dot(x,OrgineTheta)"
   ]
  },
  {
   "cell_type": "code",
   "execution_count": 244,
   "id": "f06613f7",
   "metadata": {},
   "outputs": [
    {
     "data": {
      "text/plain": [
       "matrix([[-3.10525077],\n",
       "        [-2.93280621],\n",
       "        [-3.81839073],\n",
       "        [-3.36969142],\n",
       "        [-3.03113869],\n",
       "        [-3.77821092],\n",
       "        [-3.50980262],\n",
       "        [-3.83600827],\n",
       "        [-3.21661134],\n",
       "        [-2.79272462],\n",
       "        [-2.98699123],\n",
       "        [-5.4899541 ],\n",
       "        [-2.99389019],\n",
       "        [-3.78576129],\n",
       "        [-2.96626472],\n",
       "        [-2.88889562],\n",
       "        [-3.18084331],\n",
       "        [-2.81507964],\n",
       "        [-3.19985248],\n",
       "        [-3.3897073 ],\n",
       "        [-3.12864211],\n",
       "        [-7.2978979 ],\n",
       "        [-2.92167311],\n",
       "        [-3.16920685],\n",
       "        [-2.94382087],\n",
       "        [-6.90557469],\n",
       "        [-5.09437387],\n",
       "        [-4.54038388],\n",
       "        [-5.19741423],\n",
       "        [-7.87024565],\n",
       "        [-2.85129181],\n",
       "        [-3.24716814],\n",
       "        [-4.03442018],\n",
       "        [-3.04061367],\n",
       "        [-3.72734214],\n",
       "        [-3.64511712],\n",
       "        [-3.69323223],\n",
       "        [-2.95607912],\n",
       "        [-5.09674261],\n",
       "        [-3.17729019],\n",
       "        [-2.89703818],\n",
       "        [-3.33395299],\n",
       "        [-4.76274972],\n",
       "        [-3.00564509],\n",
       "        [-3.61293181],\n",
       "        [-3.39631018],\n",
       "        [-2.79734367],\n",
       "        [-3.01384686],\n",
       "        [-4.76038097],\n",
       "        [-2.9369219 ],\n",
       "        [-3.52869335],\n",
       "        [-2.86766575],\n",
       "        [-3.49425774],\n",
       "        [-3.5473176 ],\n",
       "        [-3.17119068],\n",
       "        [-3.1789187 ],\n",
       "        [-3.15383963],\n",
       "        [-2.96596863],\n",
       "        [-4.05277795],\n",
       "        [-4.09523768],\n",
       "        [-3.90923206],\n",
       "        [-2.82964741],\n",
       "        [-7.59665572],\n",
       "        [-5.71024728],\n",
       "        [-6.90971999],\n",
       "        [-3.43335141],\n",
       "        [-3.75221395],\n",
       "        [-4.32690084],\n",
       "        [-2.92442678],\n",
       "        [-7.3189205 ],\n",
       "        [-4.29729154],\n",
       "        [-3.46778703],\n",
       "        [-3.07448671],\n",
       "        [-3.43563133],\n",
       "        [-2.78452284],\n",
       "        [-3.23488028],\n",
       "        [-3.5282196 ],\n",
       "        [-2.78736533],\n",
       "        [-4.33815237],\n",
       "        [-2.80844716],\n",
       "        [-2.99246895],\n",
       "        [-2.83234186],\n",
       "        [-3.17797121],\n",
       "        [-4.18853658],\n",
       "        [-3.2254053 ],\n",
       "        [-3.8179762 ],\n",
       "        [-4.01428586],\n",
       "        [-3.07324312],\n",
       "        [-2.93064473],\n",
       "        [-2.79414586],\n",
       "        [-2.98610295],\n",
       "        [-3.55723672],\n",
       "        [-3.03436611],\n",
       "        [-2.86698474],\n",
       "        [-3.75171059],\n",
       "        [-5.2619625 ],\n",
       "        [-2.90592097]])"
      ]
     },
     "execution_count": 244,
     "metadata": {},
     "output_type": "execute_result"
    }
   ],
   "source": [
    "y_predict"
   ]
  },
  {
   "cell_type": "code",
   "execution_count": 245,
   "id": "04edf135",
   "metadata": {},
   "outputs": [
    {
     "data": {
      "image/png": "[encoded data removed]",
      "text/plain": [
       "<Figure size 432x288 with 1 Axes>"
      ]
     },
     "metadata": {
      "needs_background": "light"
     },
     "output_type": "display_data"
    }
   ],
   "source": [
    "plt.scatter(data.Population,data.Profit,c='r')\n",
    "plt.plot(data.Population,y_predict,'b')\n",
    "plt.show()"
   ]
  },
  {
   "cell_type": "code",
   "execution_count": 246,
   "id": "12a9b6db",
   "metadata": {},
   "outputs": [],
   "source": [
    "sumation=0\n",
    "for i in range(m):\n",
    "    sumation+=np.power((y_predict[i]-y[i]),2)\n",
    "    "
   ]
  },
  {
   "cell_type": "code",
   "execution_count": 247,
   "id": "ae0e84a5",
   "metadata": {},
   "outputs": [],
   "source": [
    "costFunction=1/(2*m)*sumation"
   ]
  },
  {
   "cell_type": "code",
   "execution_count": 248,
   "id": "25c41669",
   "metadata": {},
   "outputs": [
    {
     "data": {
      "text/plain": [
       "matrix([[66.52396167]])"
      ]
     },
     "execution_count": 248,
     "metadata": {},
     "output_type": "execute_result"
    }
   ],
   "source": [
    "costFunction"
   ]
  },
  {
   "cell_type": "code",
   "execution_count": 290,
   "id": "ba13fc2a",
   "metadata": {},
   "outputs": [],
   "source": [
    "# Gradient descent\n",
    "sumation=0\n",
    "for i in range(10000):\n",
    "    for j in range(len(y)):\n",
    "        sumation+=y_predict[j]-y[j]\n",
    "    Theta0=Theta0-(a/m)*sumation\n",
    "    Theta1=Theta1-(a/m)*sumation\n",
    "    "
   ]
  },
  {
   "cell_type": "code",
   "execution_count": 291,
   "id": "450cb090",
   "metadata": {},
   "outputs": [
    {
     "data": {
      "text/plain": [
       "matrix([[-7.3874847e+24]])"
      ]
     },
     "execution_count": 291,
     "metadata": {},
     "output_type": "execute_result"
    }
   ],
   "source": [
    "Theta0"
   ]
  },
  {
   "cell_type": "code",
   "execution_count": 292,
   "id": "9a0aafb2",
   "metadata": {},
   "outputs": [
    {
     "data": {
      "text/plain": [
       "matrix([[-7.3874847e+24]])"
      ]
     },
     "execution_count": 292,
     "metadata": {},
     "output_type": "execute_result"
    }
   ],
   "source": [
    "Theta1"
   ]
  },
  {
   "cell_type": "code",
   "execution_count": 293,
   "id": "0b3d6020",
   "metadata": {},
   "outputs": [],
   "source": [
    "ThetaData=np.matrix([-7.3874847e+24,-7.3874847e+24])"
   ]
  },
  {
   "cell_type": "code",
   "execution_count": 294,
   "id": "1da4f4c2",
   "metadata": {},
   "outputs": [],
   "source": [
    "ThetaData=ThetaData.T"
   ]
  },
  {
   "cell_type": "code",
   "execution_count": 295,
   "id": "2ef1518f",
   "metadata": {},
   "outputs": [],
   "source": [
    "y_predict=np.dot(x,ThetaData)"
   ]
  },
  {
   "cell_type": "code",
   "execution_count": 296,
   "id": "fce15a47",
   "metadata": {},
   "outputs": [
    {
     "data": {
      "text/plain": [
       "matrix([[-5.25257550e+25],\n",
       "        [-4.82232839e+25],\n",
       "        [-7.03185119e+25],\n",
       "        [-5.91235176e+25],\n",
       "        [-5.06766675e+25],\n",
       "        [-6.93160302e+25],\n",
       "        [-6.26192753e+25],\n",
       "        [-7.07580672e+25],\n",
       "        [-5.53041880e+25],\n",
       "        [-4.47282649e+25],\n",
       "        [-4.95751936e+25],\n",
       "        [-1.12023818e+26],\n",
       "        [-4.97473220e+25],\n",
       "        [-6.95044111e+25],\n",
       "        [-4.90580696e+25],\n",
       "        [-4.71277199e+25],\n",
       "        [-5.44117798e+25],\n",
       "        [-4.52860200e+25],\n",
       "        [-5.48860563e+25],\n",
       "        [-5.96229115e+25],\n",
       "        [-5.31093663e+25],\n",
       "        [-1.57131800e+26],\n",
       "        [-4.79455145e+25],\n",
       "        [-5.41214517e+25],\n",
       "        [-4.84980983e+25],\n",
       "        [-1.47343382e+26],\n",
       "        [-1.02154138e+26],\n",
       "        [-8.83321546e+25],\n",
       "        [-1.04724983e+26],\n",
       "        [-1.71411807e+26],\n",
       "        [-4.61895093e+25],\n",
       "        [-5.60665764e+25],\n",
       "        [-7.57084207e+25],\n",
       "        [-5.09130671e+25],\n",
       "        [-6.80468603e+25],\n",
       "        [-6.59953558e+25],\n",
       "        [-6.71958221e+25],\n",
       "        [-4.88039402e+25],\n",
       "        [-1.02213238e+26],\n",
       "        [-5.43231300e+25],\n",
       "        [-4.73308757e+25],\n",
       "        [-5.82318481e+25],\n",
       "        [-9.38801556e+25],\n",
       "        [-5.00406051e+25],\n",
       "        [-6.51923362e+25],\n",
       "        [-5.97876524e+25],\n",
       "        [-4.48435096e+25],\n",
       "        [-5.02452384e+25],\n",
       "        [-9.38210557e+25],\n",
       "        [-4.83259699e+25],\n",
       "        [-6.30905968e+25],\n",
       "        [-4.65980372e+25],\n",
       "        [-6.22314324e+25],\n",
       "        [-6.35552696e+25],\n",
       "        [-5.41709478e+25],\n",
       "        [-5.43637612e+25],\n",
       "        [-5.37380412e+25],\n",
       "        [-4.90506822e+25],\n",
       "        [-7.61664448e+25],\n",
       "        [-7.72258101e+25],\n",
       "        [-7.25849922e+25],\n",
       "        [-4.56494842e+25],\n",
       "        [-1.64585772e+26],\n",
       "        [-1.17520107e+26],\n",
       "        [-1.47446807e+26],\n",
       "        [-6.07118268e+25],\n",
       "        [-6.86674090e+25],\n",
       "        [-8.30057781e+25],\n",
       "        [-4.80142181e+25],\n",
       "        [-1.57656311e+26],\n",
       "        [-8.22670296e+25],\n",
       "        [-6.15709912e+25],\n",
       "        [-5.17581953e+25],\n",
       "        [-6.07687104e+25],\n",
       "        [-4.45236315e+25],\n",
       "        [-5.57599958e+25],\n",
       "        [-6.30787769e+25],\n",
       "        [-4.45945514e+25],\n",
       "        [-8.32865025e+25],\n",
       "        [-4.51205403e+25],\n",
       "        [-4.97118620e+25],\n",
       "        [-4.57167103e+25],\n",
       "        [-5.43401212e+25],\n",
       "        [-7.95536065e+25],\n",
       "        [-5.55235963e+25],\n",
       "        [-7.03081694e+25],\n",
       "        [-7.52060717e+25],\n",
       "        [-5.17271679e+25],\n",
       "        [-4.81693552e+25],\n",
       "        [-4.47637248e+25],\n",
       "        [-4.95530311e+25],\n",
       "        [-6.38027504e+25],\n",
       "        [-5.07571911e+25],\n",
       "        [-4.65810460e+25],\n",
       "        [-6.86548503e+25],\n",
       "        [-1.06335455e+26],\n",
       "        [-4.75525003e+25]])"
      ]
     },
     "execution_count": 296,
     "metadata": {},
     "output_type": "execute_result"
    }
   ],
   "source": [
    "y_predict"
   ]
  },
  {
   "cell_type": "code",
   "execution_count": 303,
   "id": "95de5946",
   "metadata": {},
   "outputs": [
    {
     "data": {
      "image/png": "[encoded data removed]",
      "text/plain": [
       "<Figure size 432x288 with 1 Axes>"
      ]
     },
     "metadata": {
      "needs_background": "light"
     },
     "output_type": "display_data"
    }
   ],
   "source": [
    "plt.scatter(data.Population,data.Profit,c='r')\n",
    "plt.plot(data.Population,y_predict)\n",
    "plt.show()"
   ]
  },
  {
   "cell_type": "code",
   "execution_count": 298,
   "id": "104b998b",
   "metadata": {},
   "outputs": [],
   "source": [
    "sumation=0\n",
    "for i in range(m):\n",
    "    sumation+=np.power((y_predict[i]-y[i]),2)\n",
    "    "
   ]
  },
  {
   "cell_type": "code",
   "execution_count": 299,
   "id": "1973dde1",
   "metadata": {},
   "outputs": [],
   "source": [
    "costFunction=1/(2*m)*sumation"
   ]
  },
  {
   "cell_type": "code",
   "execution_count": 300,
   "id": "31d57838",
   "metadata": {},
   "outputs": [
    {
     "name": "stdout",
     "output_type": "stream",
     "text": [
      "The Erro =  [[2.69391523e+51]]\n"
     ]
    }
   ],
   "source": [
    "print(\"The Erro = \",costFunction)"
   ]
  },
  {
   "cell_type": "code",
   "execution_count": 308,
   "id": "948501b6",
   "metadata": {},
   "outputs": [],
   "source": [
    "x=(x-x.mean())/x.std()"
   ]
  },
  {
   "cell_type": "code",
   "execution_count": 309,
   "id": "f569813f",
   "metadata": {},
   "outputs": [
    {
     "data": {
      "image/png": "[encoded data removed]",
      "text/plain": [
       "<Figure size 432x288 with 1 Axes>"
      ]
     },
     "metadata": {
      "needs_background": "light"
     },
     "output_type": "display_data"
    }
   ],
   "source": [
    "plt.scatter(data.Population,data.Profit,c='r')\n",
    "plt.plot(data.Population,y_predict)\n",
    "plt.show()"
   ]
  },
  {
   "cell_type": "code",
   "execution_count": 310,
   "id": "df68ad40",
   "metadata": {},
   "outputs": [],
   "source": [
    "x_Trans=x.T"
   ]
  },
  {
   "cell_type": "code",
   "execution_count": 311,
   "id": "f851701f",
   "metadata": {},
   "outputs": [],
   "source": [
    "multiple=np.dot(x_Trans,x)"
   ]
  },
  {
   "cell_type": "code",
   "execution_count": 312,
   "id": "5275fda8",
   "metadata": {},
   "outputs": [],
   "source": [
    "Inverse=np.linalg.inv(multiple)"
   ]
  },
  {
   "cell_type": "code",
   "execution_count": 313,
   "id": "dc4a6d37",
   "metadata": {},
   "outputs": [],
   "source": [
    "multiple_M=np.dot(Inverse,x_Trans)"
   ]
  },
  {
   "cell_type": "code",
   "execution_count": 314,
   "id": "63dff62a",
   "metadata": {},
   "outputs": [],
   "source": [
    "Theta=np.dot(multiple_M,y)"
   ]
  },
  {
   "cell_type": "code",
   "execution_count": 315,
   "id": "df909dcd",
   "metadata": {},
   "outputs": [
    {
     "data": {
      "text/plain": [
       "matrix([[-1.97010377],\n",
       "        [ 5.36553368]])"
      ]
     },
     "execution_count": 315,
     "metadata": {},
     "output_type": "execute_result"
    }
   ],
   "source": [
    "Theta"
   ]
  },
  {
   "cell_type": "code",
   "execution_count": 318,
   "id": "9cf36e37",
   "metadata": {},
   "outputs": [],
   "source": [
    "Theta=Theta.T"
   ]
  },
  {
   "cell_type": "code",
   "execution_count": 320,
   "id": "dc7db039",
   "metadata": {},
   "outputs": [
    {
     "data": {
      "text/plain": [
       "(2, 1)"
      ]
     },
     "execution_count": 320,
     "metadata": {},
     "output_type": "execute_result"
    }
   ],
   "source": [
    "Theta.shape"
   ]
  },
  {
   "cell_type": "code",
   "execution_count": 321,
   "id": "a189c765",
   "metadata": {},
   "outputs": [
    {
     "data": {
      "text/plain": [
       "(97, 2)"
      ]
     },
     "execution_count": 321,
     "metadata": {},
     "output_type": "execute_result"
    }
   ],
   "source": [
    "x.shape"
   ]
  },
  {
   "cell_type": "code",
   "execution_count": 322,
   "id": "c1dc6742",
   "metadata": {},
   "outputs": [],
   "source": [
    "y_predict=np.dot(x,Theta)"
   ]
  },
  {
   "cell_type": "code",
   "execution_count": 323,
   "id": "11cf5b10",
   "metadata": {},
   "outputs": [
    {
     "data": {
      "text/plain": [
       "matrix([[ 3.39377399],\n",
       "        [ 2.6989512 ],\n",
       "        [ 6.26719552],\n",
       "        [ 4.45927234],\n",
       "        [ 3.09515767],\n",
       "        [ 6.10530086],\n",
       "        [ 5.02381586],\n",
       "        [ 6.33818102],\n",
       "        [ 3.84247394],\n",
       "        [ 2.13452698],\n",
       "        [ 2.91727635],\n",
       "        [13.00234766],\n",
       "        [ 2.94507404],\n",
       "        [ 6.13572322],\n",
       "        [ 2.833764  ],\n",
       "        [ 2.52202431],\n",
       "        [ 3.69835548],\n",
       "        [ 2.22460102],\n",
       "        [ 3.77494824],\n",
       "        [ 4.53992141],\n",
       "        [ 3.48802365],\n",
       "        [20.28701109],\n",
       "        [ 2.65409313],\n",
       "        [ 3.65146926],\n",
       "        [ 2.74333205],\n",
       "        [18.70624151],\n",
       "        [11.40845471],\n",
       "        [ 9.17628876],\n",
       "        [11.82363042],\n",
       "        [22.59314512],\n",
       "        [ 2.37050903],\n",
       "        [ 3.96559502],\n",
       "        [ 7.13763287],\n",
       "        [ 3.13333475],\n",
       "        [ 5.90033768],\n",
       "        [ 5.56903223],\n",
       "        [ 5.7629002 ],\n",
       "        [ 2.79272364],\n",
       "        [11.41799898],\n",
       "        [ 3.68403908],\n",
       "        [ 2.55483273],\n",
       "        [ 4.31527318],\n",
       "        [10.07225703],\n",
       "        [ 2.99243747],\n",
       "        [ 5.43934948],\n",
       "        [ 4.56652606],\n",
       "        [ 2.1531383 ],\n",
       "        [ 3.02548451],\n",
       "        [10.06271276],\n",
       "        [ 2.71553436],\n",
       "        [ 5.09993141],\n",
       "        [ 2.43648379],\n",
       "        [ 4.96118159],\n",
       "        [ 5.17497322],\n",
       "        [ 3.65946258],\n",
       "        [ 3.69060076],\n",
       "        [ 3.58955081],\n",
       "        [ 2.83257096],\n",
       "        [ 7.21160096],\n",
       "        [ 7.38268198],\n",
       "        [ 6.63321825],\n",
       "        [ 2.28329828],\n",
       "        [21.49078204],\n",
       "        [13.88996469],\n",
       "        [18.72294398],\n",
       "        [ 4.71577457],\n",
       "        [ 6.0005525 ],\n",
       "        [ 8.3161115 ],\n",
       "        [ 2.66518834],\n",
       "        [20.37171648],\n",
       "        [ 8.19680814],\n",
       "        [ 4.85452438],\n",
       "        [ 3.2698178 ],\n",
       "        [ 4.72496093],\n",
       "        [ 2.10147995],\n",
       "        [ 3.91608412],\n",
       "        [ 5.09802255],\n",
       "        [ 2.11293307],\n",
       "        [ 8.36144678],\n",
       "        [ 2.19787707],\n",
       "        [ 2.93934748],\n",
       "        [ 2.29415488],\n",
       "        [ 3.68678305],\n",
       "        [ 7.75860688],\n",
       "        [ 3.87790704],\n",
       "        [ 6.26552528],\n",
       "        [ 7.05650658],\n",
       "        [ 3.26480705],\n",
       "        [ 2.69024205],\n",
       "        [ 2.14025354],\n",
       "        [ 2.91369725],\n",
       "        [ 5.21493985],\n",
       "        [ 3.10816174],\n",
       "        [ 2.43373982],\n",
       "        [ 5.99852435],\n",
       "        [12.08371175],\n",
       "        [ 2.59062374]])"
      ]
     },
     "execution_count": 323,
     "metadata": {},
     "output_type": "execute_result"
    }
   ],
   "source": [
    "y_predict"
   ]
  },
  {
   "cell_type": "code",
   "execution_count": 324,
   "id": "6edaf07b",
   "metadata": {},
   "outputs": [],
   "source": [
    "sumation=0\n",
    "for i in range(m):\n",
    "    sumation+=np.power((y_predict[i]-y[i]),2)\n",
    "    "
   ]
  },
  {
   "cell_type": "code",
   "execution_count": 325,
   "id": "a4219579",
   "metadata": {},
   "outputs": [],
   "source": [
    "costFunction=1/(2*m)*sumation"
   ]
  },
  {
   "cell_type": "code",
   "execution_count": 326,
   "id": "75f28928",
   "metadata": {},
   "outputs": [
    {
     "data": {
      "text/plain": [
       "matrix([[4.47697138]])"
      ]
     },
     "execution_count": 326,
     "metadata": {},
     "output_type": "execute_result"
    }
   ],
   "source": [
    "# Using Normal Function\n",
    "costFunction"
   ]
  },
  {
   "cell_type": "code",
   "execution_count": 327,
   "id": "7e917ca0",
   "metadata": {},
   "outputs": [
    {
     "data": {
      "image/png": "[encoded data removed]",
      "text/plain": [
       "<Figure size 432x288 with 1 Axes>"
      ]
     },
     "metadata": {
      "needs_background": "light"
     },
     "output_type": "display_data"
    }
   ],
   "source": [
    "plt.scatter(data.Population,data.Profit,c='r')\n",
    "plt.plot(data.Population,y_predict)\n",
    "plt.show()"
   ]
  },
  {
   "cell_type": "code",
   "execution_count": null,
   "id": "ebe684e0",
   "metadata": {},
   "outputs": [],
   "source": []
  }
 ],
 "metadata": {
  "kernelspec": {
   "display_name": "Python 3 (ipykernel)",
   "language": "python",
   "name": "python3"
  },
  "language_info": {
   "codemirror_mode": {
    "name": "ipython",
    "version": 3
   },
   "file_extension": ".py",
   "mimetype": "text/x-python",
   "name": "python",
   "nbconvert_exporter": "python",
   "pygments_lexer": "ipython3",
   "version": "3.9.12"
  }
 },
 "nbformat": 4,
 "nbformat_minor": 5
}
